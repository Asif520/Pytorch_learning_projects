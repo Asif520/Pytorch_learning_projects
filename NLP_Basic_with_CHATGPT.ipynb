{
 "cells": [
  {
   "cell_type": "markdown",
   "id": "852ef413",
   "metadata": {},
   "source": [
    "Natural Language Processing (NLP) is a branch of artificial intelligence that helps computers understand, interpret, and manipulate human language. Let's dive into the fundamental steps of NLP with practical code examples using Python libraries like NLTK, spaCy, and Transformers.\n",
    "\n",
    "### Step 1: Text Preprocessing\n",
    "Preprocessing is the foundation of NLP. It involves cleaning and preparing the raw text for analysis. Common preprocessing steps include tokenization, removing stop words, stemming, and lemmatization.\n",
    "\n",
    "#### 1.1 Tokenization\n",
    "Tokenization is breaking text into words or sentences."
   ]
  },
  {
   "cell_type": "code",
   "execution_count": 1,
   "id": "4cd37187",
   "metadata": {},
   "outputs": [],
   "source": [
    "import nltk"
   ]
  },
  {
   "cell_type": "code",
   "execution_count": 2,
   "id": "9e49b78f",
   "metadata": {},
   "outputs": [],
   "source": [
    "from nltk.tokenize import word_tokenize\n",
    "\n",
    "text = \"Natural Language Processing with Python is exciting!\"\n",
    "\n",
    "tokens = word_tokenize(text)"
   ]
  },
  {
   "cell_type": "code",
   "execution_count": 3,
   "id": "6ab01f9a",
   "metadata": {},
   "outputs": [
    {
     "data": {
      "text/plain": [
       "['Natural', 'Language', 'Processing', 'with', 'Python', 'is', 'exciting', '!']"
      ]
     },
     "execution_count": 3,
     "metadata": {},
     "output_type": "execute_result"
    }
   ],
   "source": [
    "tokens"
   ]
  },
  {
   "cell_type": "markdown",
   "id": "24e87be8",
   "metadata": {},
   "source": [
    "#### 1.2 Removing Stop Words\n",
    "Stop words (like \"is\", \"the\", \"a\") are common words that don't contribute much meaning."
   ]
  },
  {
   "cell_type": "code",
   "execution_count": 4,
   "id": "a7d4e866",
   "metadata": {},
   "outputs": [],
   "source": [
    "from nltk.corpus import stopwords\n",
    "\n",
    "stop_words = set(stopwords.words('english'))\n",
    "\n",
    "filtered_words = [word for word in tokens if word.lower() not in stop_words]"
   ]
  },
  {
   "cell_type": "code",
   "execution_count": 5,
   "id": "5a3abc6c",
   "metadata": {},
   "outputs": [
    {
     "data": {
      "text/plain": [
       "['Natural', 'Language', 'Processing', 'Python', 'exciting', '!']"
      ]
     },
     "execution_count": 5,
     "metadata": {},
     "output_type": "execute_result"
    }
   ],
   "source": [
    "filtered_words"
   ]
  },
  {
   "cell_type": "markdown",
   "id": "282ae946",
   "metadata": {},
   "source": [
    "#### 1.3 Stemming and Lemmatization\n",
    "Stemming reduces words to their root form, while lemmatization returns the base form of a word.m\n",
    "\n",
    "#### Stemming"
   ]
  },
  {
   "cell_type": "code",
   "execution_count": 6,
   "id": "bfa4869c",
   "metadata": {},
   "outputs": [
    {
     "data": {
      "text/plain": [
       "['natur', 'languag', 'process', 'python', 'excit', '!']"
      ]
     },
     "execution_count": 6,
     "metadata": {},
     "output_type": "execute_result"
    }
   ],
   "source": [
    "from nltk.stem import PorterStemmer\n",
    "\n",
    "stemmer = PorterStemmer()\n",
    "stemmed_words = [stemmer.stem(word) for word in filtered_words]\n",
    "\n",
    "stemmed_words"
   ]
  },
  {
   "cell_type": "markdown",
   "id": "e177856a",
   "metadata": {},
   "source": [
    "#### Lemmatization"
   ]
  },
  {
   "cell_type": "code",
   "execution_count": 7,
   "id": "d4760a5e",
   "metadata": {},
   "outputs": [
    {
     "data": {
      "text/plain": [
       "['Natural', 'Language', 'Processing', 'Python', 'exciting', '!']"
      ]
     },
     "execution_count": 7,
     "metadata": {},
     "output_type": "execute_result"
    }
   ],
   "source": [
    "from nltk.stem import WordNetLemmatizer\n",
    "\n",
    "lemmatizer = WordNetLemmatizer()\n",
    "lemmatize_words = [lemmatizer.lemmatize(word) for word in filtered_words]\n",
    "lemmatize_words"
   ]
  },
  {
   "cell_type": "code",
   "execution_count": null,
   "id": "358f4b69",
   "metadata": {},
   "outputs": [],
   "source": []
  }
 ],
 "metadata": {
  "kernelspec": {
   "display_name": "Python 3 (ipykernel)",
   "language": "python",
   "name": "python3"
  },
  "language_info": {
   "codemirror_mode": {
    "name": "ipython",
    "version": 3
   },
   "file_extension": ".py",
   "mimetype": "text/x-python",
   "name": "python",
   "nbconvert_exporter": "python",
   "pygments_lexer": "ipython3",
   "version": "3.9.12"
  }
 },
 "nbformat": 4,
 "nbformat_minor": 5
}
